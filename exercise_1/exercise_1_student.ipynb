{
 "cells": [
  {
   "cell_type": "code",
   "execution_count": null,
   "metadata": {
    "collapsed": true
   },
   "outputs": [],
   "source": [
    "#The following are a set of exercises and code snippets meant to familiarize you with the powerful Python programming\n",
    "#language. \n",
    "#Credit- www.practicepython.org & https://python.swaroopch.com/\n",
    "\n",
    "\n",
    "#Use this file as help, but type all of the code by hand. Follow your instructor's guidance. Other mentors will be\n",
    "#around to help you.\n",
    "\n"
   ]
  },
  {
   "cell_type": "code",
   "execution_count": null,
   "metadata": {},
   "outputs": [],
   "source": [
    "#Say hi to the world!\n",
    ""
   ]
  },
  {
   "cell_type": "code",
   "execution_count": null,
   "metadata": {},
   "outputs": [],
   "source": [
    "#Let's ask the user something. This is called user input.\n",
    "\n",
    "",
    ""
   ]
  },
  {
   "cell_type": "code",
   "execution_count": null,
   "metadata": {},
   "outputs": [],
   "source": [
    "#Now let's work with numbers.\n",
    "",
    "num = 5\n",
    "print(num)\n",
    "\n",
    "#Can you guess what the below line will print out?\n",
    ""
   ]
  },
  {
   "cell_type": "code",
   "execution_count": null,
   "metadata": {},
   "outputs": [],
   "source": [
    "#Let's check out expressions.\n",
    "",
    "\n",
    ""
   ]
  },
  {
   "cell_type": "code",
   "execution_count": null,
   "metadata": {},
   "outputs": [],
   "source": [
    "#Let's learn about conditional statements. If something has a condition, that means that 'thing' can only be done\n",
    "#if the condition is met. For example, if you have the cough, then you chew cough drops. If you don't, then don't chew!\n",
    "\n",
    "\n",
    "#Let's ask the user how old he is.\n",
    "\n",
    "age = int(input(\"How old are you? \"))\n",
    "\n",
    "\n",
    "if :\n",
    "    print(\"You can only go to a G rated movie sorry :/ \")\n",
    "elif :\n",
    "    print(\"You can watch a PG-13 movie in the theaters\")\n",
    "else:\n",
    "    print(\"You can watch G, PG-13, and R rated movies!\")"
   ]
  },
  {
   "cell_type": "code",
   "execution_count": null,
   "metadata": {},
   "outputs": [],
   "source": [
    "#Looooooops\n",
    "#Guess the number!\n",
    "",
    "while count < num:\n",
    "    print(\"Haven't reached the number yet\")\n"
   ]
  },
  {
   "cell_type": "code",
   "execution_count": null,
   "metadata": {},
   "outputs": [],
   "source": [
    "#Now let's see another loop- the for loop\n",
    "",
    "for elem in li:\n",
    "    print(elem)\n"
   ]
  },
  {
   "cell_type": "code",
   "execution_count": null,
   "metadata": {
    "collapsed": true
   },
   "outputs": [],
   "source": []
  }
 ],
 "metadata": {
  "kernelspec": {
   "display_name": "Python 3",
   "language": "python",
   "name": "python3"
  },
  "language_info": {
   "codemirror_mode": {
    "name": "ipython",
    "version": 3
   },
   "file_extension": ".py",
   "mimetype": "text/x-python",
   "name": "python",
   "nbconvert_exporter": "python",
   "pygments_lexer": "ipython3",
   "version": "3.6.1"
  }
 },
 "nbformat": 4,
 "nbformat_minor": 2
}
