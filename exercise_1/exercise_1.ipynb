{
 "cells": [
  {
   "cell_type": "code",
   "execution_count": 3,
   "metadata": {},
   "outputs": [],
   "source": [
    "#The following are a set of exercises and code snippets meant to familiarize you with the powerful Python programming\n",
    "#language. \n",
    "#Credit- www.practicepython.org & https://python.swaroopch.com/\n",
    "\n",
    "\n",
    "#Use this file as help, but type all of the code by hand. Follow your instructor's guidance. Other mentors will be\n",
    "#around to help you.\n",
    "\n"
   ]
  },
  {
   "cell_type": "code",
   "execution_count": 4,
   "metadata": {},
   "outputs": [
    {
     "name": "stdout",
     "output_type": "stream",
     "text": [
      "hello world\n"
     ]
    }
   ],
   "source": [
    "#Say hi to the world!\n",
    "print('hello world')"
   ]
  },
  {
   "cell_type": "code",
   "execution_count": 6,
   "metadata": {},
   "outputs": [
    {
     "name": "stdout",
     "output_type": "stream",
     "text": [
      "What is your name? Bob\n",
      "Hi, Bob\n"
     ]
    }
   ],
   "source": [
    "#Let's ask the user something. This is called user input.\n",
    "\n",
    "user_name = input(\"What is your name? \")\n",
    "print(\"Hi, \" + user_name)"
   ]
  },
  {
   "cell_type": "code",
   "execution_count": 8,
   "metadata": {},
   "outputs": [
    {
     "name": "stdout",
     "output_type": "stream",
     "text": [
      "5\n",
      "6\n"
     ]
    }
   ],
   "source": [
    "#Now let's work with numbers.\n",
    "\n",
    "num = 5\n",
    "print(num)\n",
    "\n",
    "#Can you guess what the below line will print out?\n",
    "num = num + 1\n",
    "print(num)"
   ]
  },
  {
   "cell_type": "code",
   "execution_count": 21,
   "metadata": {},
   "outputs": [
    {
     "name": "stdout",
     "output_type": "stream",
     "text": [
      "42\n"
     ]
    }
   ],
   "source": [
    "#Let's check out expressions.\n",
    "\n",
    "length = 6\n",
    "width = 7\n",
    "\n",
    "area_of_rectangle = length * width\n",
    "print(area_of_rectangle)"
   ]
  },
  {
   "cell_type": "code",
   "execution_count": 19,
   "metadata": {},
   "outputs": [
    {
     "name": "stdout",
     "output_type": "stream",
     "text": [
      "How old are you? 17\n",
      "You can watch G, PG-13, and R rated movies!\n"
     ]
    }
   ],
   "source": [
    "#Let's learn about conditional statements. If something has a condition, that means that 'thing' can only be done\n",
    "#if the condition is met. For example, if you have the cough, then you chew cough drops. If you don't, then don't chew!\n",
    "\n",
    "\n",
    "#Let's ask the user how old he is.\n",
    "\n",
    "age = int(input(\"How old are you? \"))\n",
    "\n",
    "\n",
    "if age < 13:\n",
    "    print(\"You can only go to a G rated movie sorry :/ \")\n",
    "elif age >= 13 and age < 17:\n",
    "    print(\"You can watch a PG-13 movie in the theaters\")\n",
    "else:\n",
    "    print(\"You can watch G, PG-13, and R rated movies!\")"
   ]
  },
  {
   "cell_type": "code",
   "execution_count": 24,
   "metadata": {},
   "outputs": [
    {
     "name": "stdout",
     "output_type": "stream",
     "text": [
      "Haven't reached the number yet\n",
      "Haven't reached the number yet\n",
      "Haven't reached the number yet\n",
      "Haven't reached the number yet\n",
      "Haven't reached the number yet\n",
      "Haven't reached the number yet\n",
      "Haven't reached the number yet\n",
      "Haven't reached the number yet\n",
      "Haven't reached the number yet\n",
      "Haven't reached the number yet\n",
      "Haven't reached the number yet\n",
      "Haven't reached the number yet\n",
      "Haven't reached the number yet\n",
      "Haven't reached the number yet\n",
      "Haven't reached the number yet\n",
      "Haven't reached the number yet\n",
      "Haven't reached the number yet\n",
      "Haven't reached the number yet\n",
      "Haven't reached the number yet\n",
      "Haven't reached the number yet\n",
      "Haven't reached the number yet\n",
      "Haven't reached the number yet\n",
      "Haven't reached the number yet\n",
      "Haven't reached the number yet\n",
      "Haven't reached the number yet\n",
      "We got to our target!\n"
     ]
    }
   ],
   "source": [
    "#Looooooops\n",
    "#Guess the number!\n",
    "\n",
    "num = 25\n",
    "count = 0\n",
    "\n",
    "while count < num:\n",
    "    print(\"Haven't reached the number yet\")\n",
    "    count+=1\n",
    "\n",
    "print(\"We got to our target!\")\n",
    "    \n",
    "    "
   ]
  },
  {
   "cell_type": "code",
   "execution_count": 25,
   "metadata": {},
   "outputs": [
    {
     "name": "stdout",
     "output_type": "stream",
     "text": [
      "1\n",
      "2\n",
      "3\n",
      "4\n",
      "5\n",
      "6\n"
     ]
    }
   ],
   "source": [
    "#Now let's see another loop- the for loop\n",
    "li = [1,2,3,4,5,6]\n",
    "\n",
    "for elem in li:\n",
    "    print(elem)\n"
   ]
  },
  {
   "cell_type": "code",
   "execution_count": null,
   "metadata": {
    "collapsed": true
   },
   "outputs": [],
   "source": []
  }
 ],
 "metadata": {
  "kernelspec": {
   "display_name": "Python 3",
   "language": "python",
   "name": "python3"
  },
  "language_info": {
   "codemirror_mode": {
    "name": "ipython",
    "version": 3
   },
   "file_extension": ".py",
   "mimetype": "text/x-python",
   "name": "python",
   "nbconvert_exporter": "python",
   "pygments_lexer": "ipython3",
   "version": "3.6.1"
  }
 },
 "nbformat": 4,
 "nbformat_minor": 2
}
